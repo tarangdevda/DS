{
 "cells": [
  {
   "cell_type": "markdown",
   "id": "23599779",
   "metadata": {},
   "source": [
    "Python Assignment"
   ]
  },
  {
   "cell_type": "code",
   "execution_count": null,
   "id": "0c74dd10",
   "metadata": {},
   "outputs": [
    {
     "name": "stdout",
     "output_type": "stream",
     "text": [
      "sum of the first 6 positive int is: 21\n"
     ]
    }
   ],
   "source": [
    "# 1. Write a python program to sum of the first n positive integers.\n",
    "\n",
    "n = int(input(\"Enter positive number:\"))\n",
    "\n",
    "a = 0\n",
    "for i in range(1,n+1):\n",
    "    a+=i\n",
    "\n",
    "print(\"sum of the first\",n,\"positive int is:\",a)"
   ]
  },
  {
   "cell_type": "code",
   "execution_count": null,
   "id": "8e3828c1",
   "metadata": {},
   "outputs": [
    {
     "name": "stdout",
     "output_type": "stream",
     "text": [
      "4\n"
     ]
    }
   ],
   "source": [
    "# 2. Write a Python program to count occurrences of a substring in a string.\n",
    "\n",
    "main_string = \"124123235123123\"\n",
    "sub_string = (input(\"Enter a substring:\"))\n",
    "Count= main_string.count(sub_string)\n",
    "print(Count)"
   ]
  },
  {
   "cell_type": "code",
   "execution_count": 9,
   "id": "6c0f1b7e",
   "metadata": {},
   "outputs": [
    {
     "name": "stdout",
     "output_type": "stream",
     "text": [
      "cat = 2\n",
      "fast = 2\n",
      "is = 1\n",
      "and = 2\n",
      "smart = 1\n",
      "the = 1\n",
      "runs = 1\n"
     ]
    }
   ],
   "source": [
    "# 3. Write a Python program to count the occurrences of each word in a given sentence. \n",
    "\n",
    "text = input(\"Enter a sentence: \")\n",
    "words = text.split()\n",
    "\n",
    "for word in set(words):\n",
    "    print(word, \"=\", words.count(word))"
   ]
  },
  {
   "cell_type": "code",
   "execution_count": 43,
   "id": "4b6aad14",
   "metadata": {},
   "outputs": [
    {
     "name": "stdout",
     "output_type": "stream",
     "text": [
      "ehllo owrld\n"
     ]
    }
   ],
   "source": [
    "# 4. Write a Python program to get a single string from two given strings, separated by a space and swap the first two characters of each string.\n",
    "\n",
    "def space_and_swap(str1,str2):\n",
    "\n",
    "    a_str1=str1[:2] [::-1]+ str1[2:]\n",
    "    b_str2=str2[:2] [::-1]+ str2[2:]\n",
    "\n",
    "    x = a_str1 + \" \" + b_str2\n",
    "    return x\n",
    "\n",
    "string1 = input(\"Enter first string: \")\n",
    "string2 = input(\"Enter second string: \")\n",
    "print(space_and_swap(string1,string2))"
   ]
  },
  {
   "cell_type": "code",
   "execution_count": 144,
   "id": "59a9585e",
   "metadata": {},
   "outputs": [
    {
     "name": "stdout",
     "output_type": "stream",
     "text": [
      "walkingly\n"
     ]
    }
   ],
   "source": [
    "# 5. Write a Python program to add 'ing' at the end of a given string (length shouldbeat least 3). If the given string already ends with 'ing' then add 'ly' instead If thestring length of the given string is less than 3, leave it unchanged.\n",
    "\n",
    "text = input(\"enter word:\")\n",
    "\n",
    "if len(text) < 3:\n",
    "    result = text\n",
    "elif text[-3:] == \"ing\":\n",
    "    result = text + \"ly\"\n",
    "else:\n",
    "    result = text + \"ing\"\n",
    "\n",
    "print(result)"
   ]
  },
  {
   "cell_type": "code",
   "execution_count": 1,
   "id": "ea23d208",
   "metadata": {},
   "outputs": [
    {
     "name": "stdout",
     "output_type": "stream",
     "text": [
      "The movie is not that poor\n",
      "13\n",
      "22\n",
      "The movie is good\n"
     ]
    }
   ],
   "source": [
    "# 6. Write a Python program to find the first appearance of the substring 'not' and'poor' from a given string, if 'not' follows the 'poor', replace the whole 'not'...'poor' substring with 'good'. Return the resulting string\n",
    "\n",
    "text = input(\"enter the string:\")\n",
    "print(text)\n",
    "start = text.find(\"not\")\n",
    "end = text.find(\"poor\")\n",
    "\n",
    "print(start)\n",
    "print(end)\n",
    "\n",
    "if start < end:\n",
    "    result = text[:start]+ \"good\" + text[end+4:]\n",
    "else:\n",
    "    result = text\n",
    "\n",
    "print(result)"
   ]
  },
  {
   "cell_type": "code",
   "execution_count": 142,
   "id": "ad467d0f",
   "metadata": {},
   "outputs": [
    {
     "name": "stdout",
     "output_type": "stream",
     "text": [
      "GCD is: 1\n"
     ]
    }
   ],
   "source": [
    "# 7. Program to find Greatest Common Divisor of two numbers. For example, the GCD of 20 and 28 is 4 and the GCD of 98 and 56 is 14.\n",
    "\n",
    "def gcd(a, b):\n",
    "    while b != 0:\n",
    "        a, b = b, a % b\n",
    "    return a\n",
    "\n",
    "num1 = int(input(\"enter the number:\"))\n",
    "num2 = int(input(\"enter the number:\"))\n",
    "\n",
    "print(\"GCD is:\", gcd(num1, num2))\n"
   ]
  },
  {
   "cell_type": "code",
   "execution_count": null,
   "id": "fe5f12ce",
   "metadata": {},
   "outputs": [
    {
     "name": "stdout",
     "output_type": "stream",
     "text": [
      "Yes, sublist is present.\n"
     ]
    }
   ],
   "source": [
    "# 8. Write a Python program to check whether a list contains a sublist\n",
    "\n",
    "main_list = [1, 2, 3, 4, 5]\n",
    "sub_list = [3, 4]\n",
    "\n",
    "found = False\n",
    "a = len(main_list)\n",
    "b = len(sub_list)\n",
    "\n",
    "for i in range(a - b + 1):\n",
    "    if main_list[i:i + b] == sub_list:\n",
    "        found = True\n",
    "        break\n",
    "\n",
    "if found:\n",
    "    print(\"Yes, sublist is present.\")\n",
    "else:\n",
    "    print(\"No, sublist is not present.\")\n"
   ]
  },
  {
   "cell_type": "code",
   "execution_count": 127,
   "id": "a9cac953",
   "metadata": {},
   "outputs": [
    {
     "name": "stdout",
     "output_type": "stream",
     "text": [
      "4\n"
     ]
    }
   ],
   "source": [
    "# 9. Write a Python program to find the second smallest number in a list.\n",
    "\n",
    "def second_smallest(numbers):\n",
    "    if len(numbers) < 2:\n",
    "        return None\n",
    "    num = sorted(set(numbers))\n",
    "    return num[1] if len(num) >=2 else None\n",
    "\n",
    "numbers = [8,4,1,7,5,9]\n",
    "result = second_smallest(numbers)\n",
    "print(result)\n"
   ]
  },
  {
   "cell_type": "code",
   "execution_count": 12,
   "id": "0a4696da",
   "metadata": {},
   "outputs": [
    {
     "name": "stdout",
     "output_type": "stream",
     "text": [
      "Unique values: [1, 2, 3, 4, 5]\n"
     ]
    }
   ],
   "source": [
    "# 10. Write a Python program to get unique values from a list.\n",
    "\n",
    "my_list = [1, 2, 2, 3, 4, 4, 5, 1]\n",
    "unique_list = list(set(my_list))\n",
    "\n",
    "print(\"Unique values:\", unique_list)\n"
   ]
  },
  {
   "cell_type": "code",
   "execution_count": 20,
   "id": "89602767",
   "metadata": {},
   "outputs": [
    {
     "name": "stdout",
     "output_type": "stream",
     "text": [
      "[1, 3, 5, 7, 9, 2, 4, 6, 8, 10]\n"
     ]
    }
   ],
   "source": [
    "# 11. Write a Python program to unzip a list of tuples into individual lists.\n",
    "\n",
    "pair = [(1, 2), (3, 4), (5, 6), (7, 8), (9, 10)]\n",
    "\n",
    "odd, even = zip(*pair)\n",
    "odd = list(odd)\n",
    "even = list(even)\n",
    "\n",
    "result = odd + even\n",
    "print(result)\n"
   ]
  },
  {
   "cell_type": "code",
   "execution_count": null,
   "id": "3f6452c9",
   "metadata": {},
   "outputs": [
    {
     "name": "stdout",
     "output_type": "stream",
     "text": [
      "((1, 'a'), ('d', 'b'), (3, 'c'))\n"
     ]
    }
   ],
   "source": [
    "# 12. Write a Python program to convert a list of tuples into a dictionary.\n",
    "\n",
    "\n",
    "# l = [(1, 'a'), ('2', 'b'), (3, 'c')]\n",
    "# dictionary = dict(l)\n",
    "# print(dictionary)\n",
    "\n",
    "\n",
    "def tuple_to_dict(tuple_list):\n",
    "    return tuple(tuple_list)\n",
    "tuple_list = [(1, 'a'), ('d', 'b'), (3, 'c')]\n",
    "result = tuple_to_dict(tuple_list)\n",
    "print(result)\n",
    "\n"
   ]
  },
  {
   "cell_type": "code",
   "execution_count": 118,
   "id": "ba69dcbe",
   "metadata": {},
   "outputs": [
    {
     "data": {
      "text/plain": [
       "(('c', 5), ('d', 4), ('a', 3), ('b', 1))"
      ]
     },
     "execution_count": 118,
     "metadata": {},
     "output_type": "execute_result"
    }
   ],
   "source": [
    "# 13. Write a Python program to sort a dictionary (ascending /descending) by value.\n",
    "\n",
    "d = {'a':3,'b':1,'c':5,'d':4}\n",
    "\n",
    "ascending = tuple(sorted(d.items(),key = lambda item:item[1]))\n",
    "ascending\n",
    "\n",
    "descending = tuple(sorted(d.items(),key = lambda item:item[1],reverse = True))\n",
    "descending\n"
   ]
  },
  {
   "cell_type": "code",
   "execution_count": 80,
   "id": "033dd85c",
   "metadata": {},
   "outputs": [
    {
     "name": "stdout",
     "output_type": "stream",
     "text": [
      "[78, 50, 45]\n"
     ]
    }
   ],
   "source": [
    "# 14. Write a Python program to find the highest 3 values in a dictionary.\n",
    "\n",
    "my_dict = {'a': 45, 'b': 10, 'c': 78, 'd': 35, 'e': 50}\n",
    "\n",
    "high_3_value = sorted(my_dict.values(), reverse=True)[:3]\n",
    "\n",
    "print(high_3_value)\n"
   ]
  },
  {
   "cell_type": "code",
   "execution_count": 81,
   "id": "4f862e49",
   "metadata": {},
   "outputs": [
    {
     "name": "stdout",
     "output_type": "stream",
     "text": [
      "fibonacci series:\n",
      "0 1 1 2 3 5 8 13 "
     ]
    }
   ],
   "source": [
    "# 15 .Given a number n, write a python program to make and print the list of Fibonacci\n",
    "# series up to n. Input : n=7 Hint : first 7 numbers in the series Expected output :\n",
    "# First few Fibonacci numbers are 0, 1, 1, 2, 3, 5, 8, 13\n",
    "\n",
    "n = 7\n",
    "a = 0\n",
    "b = 1\n",
    "\n",
    "print(\"fibonacci series:\")\n",
    "for i in range(n+1):\n",
    "    print(a,end=\" \")\n",
    "    a,b=b,a+b"
   ]
  },
  {
   "cell_type": "code",
   "execution_count": 83,
   "id": "3dc3748f",
   "metadata": {},
   "outputs": [
    {
     "name": "stdout",
     "output_type": "stream",
     "text": [
      "1:5\n",
      "2:4\n",
      "3:3\n",
      "4:3\n",
      "5:2\n"
     ]
    }
   ],
   "source": [
    "# 16 .Counting the frequencies in a list using a dictionary in Python. Input : [1, 1, 1, 5, 5, 3, 1, 3, 3, 1, 4, 4, 4, 2, 2, 2, 2]\n",
    "# Expected output : 1 : 5 , 2 : 4 , 3 : 3 , 4 : 3 , 5 : 2\n",
    "\n",
    "num = [1,1,1,5,5,3,1,3,3,1,4,4,4,2,2,2,2]\n",
    "freq = {}\n",
    "\n",
    "for num in num:\n",
    "    if num in freq:\n",
    "        freq[num] += 1\n",
    "    else:\n",
    "        freq[num] = 1\n",
    "\n",
    "for key in sorted(freq):\n",
    "    print(f\"{key}:{freq[key]}\")"
   ]
  },
  {
   "cell_type": "code",
   "execution_count": 129,
   "id": "72389266",
   "metadata": {},
   "outputs": [
    {
     "name": "stdout",
     "output_type": "stream",
     "text": [
      "2.7083333333333335\n",
      "2.6666666666666665\n"
     ]
    }
   ],
   "source": [
    "# 17. Write a python program using function to find the sum of odd series andevenseries\n",
    "# Odd series: 12/ 1! +32/ 3! + 52/ 5!+……n\n",
    "# Even series: 22/ 2! + 42/ 4! + 62/ 6!+……n\n",
    "\n",
    "def fact(n):\n",
    "    a = 1\n",
    "    for i in range(1,n+1):\n",
    "        a *= i\n",
    "    return a\n",
    "\n",
    "def odd_series(n):\n",
    "    total = 0\n",
    "    for i in range(1,n+1,2):\n",
    "        total += (i**2)/fact(i)\n",
    "    return total\n",
    "\n",
    "def even_series(n):\n",
    "    total = 0\n",
    "    for i in range(2,n+1,2):\n",
    "        total += (i**2)/fact(i)\n",
    "    return total\n",
    "\n",
    "n=int(input(\"Enter the number :\"))\n",
    "print(odd_series(n))\n",
    "print(even_series(n))"
   ]
  },
  {
   "cell_type": "code",
   "execution_count": 98,
   "id": "1d625dd6",
   "metadata": {},
   "outputs": [
    {
     "name": "stdout",
     "output_type": "stream",
     "text": [
      "24\n"
     ]
    }
   ],
   "source": [
    "# 18. Python Program to Find Factorial of Number Using Recursion.\n",
    "\n",
    "def fact(n):\n",
    "    return 1 if n<=1 else n*fact(n-1)\n",
    "\n",
    "n = int(input(\"enter a number:\"))\n",
    "print(fact(n))"
   ]
  },
  {
   "cell_type": "code",
   "execution_count": 99,
   "id": "9e6db121",
   "metadata": {},
   "outputs": [
    {
     "name": "stdout",
     "output_type": "stream",
     "text": [
      "[1, 2, 3, 4, 5, 6, 7, 9]\n"
     ]
    }
   ],
   "source": [
    "# 19. Write a Python function that takes a list and returns a new list with unique\n",
    "# elements of the first list.\n",
    "\n",
    "def unique_element(lst):\n",
    "    return list(set(lst))\n",
    "\n",
    "my_list = [1,5,7,1,2,4,9,6,3]\n",
    "result = unique_element(my_list)\n",
    "print(result)"
   ]
  },
  {
   "cell_type": "code",
   "execution_count": 152,
   "id": "3de8dd1a",
   "metadata": {},
   "outputs": [
    {
     "name": "stdout",
     "output_type": "stream",
     "text": [
      "Generated Password: wYwM5k&_\n"
     ]
    }
   ],
   "source": [
    "# 20.Mini project :\n",
    "# Problem Statement : Password Generator\n",
    "# Make a program to generate a strong password using the input given by the user.\n",
    "# To generate a password, randomly take some words from the user input and then include numbers, special characters and capital letters to generate the password.\n",
    "# Also, keep a check that password length is more than 8 characters.\n",
    "# Note: Include Exception handling wherever required.\n",
    "# Also, make a ‘User’ class and store the details like user id, name and password of each user as a tuple.\n",
    "\n",
    "\n",
    "import random\n",
    "import string\n",
    "\n",
    "def generate_password(user_input):\n",
    "    try:\n",
    "        if not user_input.strip():\n",
    "            raise ValueError(\"Input cannot be empty.\")\n",
    "\n",
    "        chars = string.ascii_letters + string.digits + string.punctuation\n",
    "        password = user_input + ''.join(random.choices(chars, k=4))\n",
    "\n",
    "        while len(password) < 8:\n",
    "            password += random.choice(chars)\n",
    "\n",
    "        return ''.join(random.sample(password, len(password)))\n",
    "\n",
    "    except ValueError as e:\n",
    "        return str(e)\n",
    "    except Exception as e:\n",
    "        return \"Error: \" + str(e)\n",
    "\n",
    "user_input = input(\"Enter a word or letter for password: \")\n",
    "print(\"Generated Password:\", generate_password(user_input))\n"
   ]
  }
 ],
 "metadata": {
  "kernelspec": {
   "display_name": "Python 3",
   "language": "python",
   "name": "python3"
  },
  "language_info": {
   "codemirror_mode": {
    "name": "ipython",
    "version": 3
   },
   "file_extension": ".py",
   "mimetype": "text/x-python",
   "name": "python",
   "nbconvert_exporter": "python",
   "pygments_lexer": "ipython3",
   "version": "3.13.3"
  }
 },
 "nbformat": 4,
 "nbformat_minor": 5
}
